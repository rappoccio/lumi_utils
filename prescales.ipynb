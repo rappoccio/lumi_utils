{
 "cells": [
  {
   "cell_type": "markdown",
   "id": "77ac79a3",
   "metadata": {},
   "source": [
    "# Calculate prescales per year for each PFJet trigger"
   ]
  },
  {
   "cell_type": "markdown",
   "id": "f60e21eb",
   "metadata": {},
   "source": [
    "### Commands to run for brilcalc\n",
    "\n",
    "```\n",
    "brilcalc lumi --normtag /cvmfs/cms-bril.cern.ch/cms-lumi-pog/Normtags/normtag_PHYSICS.json -u /nb -i Cert_271036-284044_13TeV_Legacy2016_Collisions16_JSON.txt   --hltpath \"HLT_PFJet*\" --output-style csv > runs2016.csv\n",
    "brilcalc lumi --normtag /cvmfs/cms-bril.cern.ch/cms-lumi-pog/Normtags/normtag_PHYSICS.json -u /nb -i Cert_294927-306462_13TeV_UL2017_Collisions17_GoldenJSON.txt --hltpath \"HLT_PFJet*\" --output-style csv > runs2017.csv\n",
    "brilcalc lumi --normtag /cvmfs/cms-bril.cern.ch/cms-lumi-pog/Normtags/normtag_PHYSICS.json -u /nb -i Cert_314472-325175_13TeV_Legacy2018_Collisions18_JSON.txt   --hltpath \"HLT_PFJet*\" --output-style csv > runs2018.csv\n",
    "```\n",
    "\n",
    "These files were edited by hand to extract only the summary, remove the preceding pound sign (comment), and remove the `Fwd` jet triggers. "
   ]
  },
  {
   "cell_type": "code",
   "execution_count": 1,
   "id": "936ee764",
   "metadata": {},
   "outputs": [],
   "source": [
    "import pandas as pd\n",
    "import numpy as np"
   ]
  },
  {
   "cell_type": "code",
   "execution_count": 2,
   "id": "c48ec2cd",
   "metadata": {},
   "outputs": [],
   "source": [
    "def get_prescales(year):\n",
    "    name = (\"summary%s.csv\") % (year)\n",
    "    df = pd.read_csv( name )\n",
    "    alltrigs = []\n",
    "    for i in df[\"hltpath\"]: \n",
    "        pathname = '_'.join(i.split(\"_\")[0:2])\n",
    "        if pathname not in alltrigs:\n",
    "            alltrigs.append(pathname)\n",
    "    initvals = np.zeros_like(alltrigs, dtype=\"int\")\n",
    "    lumi_pertrig = dict(zip( alltrigs, initvals ))\n",
    "    paths = df['hltpath']\n",
    "    lumis = df['totrecorded(/nb)']\n",
    "    pathnames = [ '_'.join(i.split(\"_\")[0:2]) for i in paths ]\n",
    "    for i in range(len(paths)):\n",
    "        lumi_pertrig[pathnames[i]] += lumis[i]\n",
    "    totlumi = max(lumi_pertrig.values()) \n",
    "    prescales_pertrig = {}\n",
    "    for s,t in lumi_pertrig.items():\n",
    "        prescales_pertrig[s] = np.where( t > 0, totlumi / t, 0)        \n",
    "    return totlumi, prescales_pertrig"
   ]
  },
  {
   "cell_type": "code",
   "execution_count": 3,
   "id": "9661b1e8",
   "metadata": {},
   "outputs": [
    {
     "name": "stdout",
     "output_type": "stream",
     "text": [
      "Year : 2016, Total lumi: 36.31 fb-1\n",
      "Prescales:\n",
      " HLT_PFJet40          : 136006.59   \n",
      " HLT_PFJet60          : 50007.75    \n",
      " HLT_PFJet80          : 13163.18    \n",
      " HLT_PFJet140         : 1501.12     \n",
      " HLT_PFJet200         : 349.82      \n",
      " HLT_PFJet260         : 61.17       \n",
      " HLT_PFJet320         : 20.49       \n",
      " HLT_PFJet400         : 6.99        \n",
      " HLT_PFJet450         : 1.00        \n",
      " HLT_PFJet500         : 1.00        \n",
      "\n",
      "\n",
      "\n",
      "Year : 2017, Total lumi: 41.48 fb-1\n",
      "Prescales:\n",
      " HLT_PFJet40          : 86061.17    \n",
      " HLT_PFJet60          : 36420.75    \n",
      " HLT_PFJet80          : 9621.74     \n",
      " HLT_PFJet140         : 1040.40     \n",
      " HLT_PFJet200         : 189.54      \n",
      " HLT_PFJet260         : 74.73       \n",
      " HLT_PFJet320         : 29.49       \n",
      " HLT_PFJet400         : 9.85        \n",
      " HLT_PFJet450         : 3.97        \n",
      " HLT_PFJet500         : 1.00        \n",
      " HLT_PFJet550         : 1.00        \n",
      "\n",
      "\n",
      "\n",
      "Year : 2018, Total lumi: 59.83 fb-1\n",
      "Prescales:\n",
      " HLT_PFJet15          : 318346231.66\n",
      " HLT_PFJet25          : 318346231.66\n",
      " HLT_PFJet40          : 248642.75   \n",
      " HLT_PFJet60          : 74330.16    \n",
      " HLT_PFJet80          : 11616.52    \n",
      " HLT_PFJet140         : 1231.88     \n",
      " HLT_PFJet200         : 286.14      \n",
      " HLT_PFJet260         : 125.78      \n",
      " HLT_PFJet320         : 32.66       \n",
      " HLT_PFJet400         : 15.83       \n",
      " HLT_PFJet450         : 7.96        \n",
      " HLT_PFJet500         : 1.00        \n",
      " HLT_PFJet550         : 1.00        \n",
      "\n",
      "\n",
      "\n"
     ]
    }
   ],
   "source": [
    "for year in ['2016', '2017', '2018']: \n",
    "    totlumi, prescales_pertrig = get_prescales(year)\n",
    "    print (\"Year : {0:4s}, Total lumi: {1:2.2f} fb-1\".format(year, totlumi / 1000000))\n",
    "    print(\"Prescales:\")    \n",
    "    trignames = prescales_pertrig.keys()\n",
    "    trigthresholds = sorted([int(x[9:]) for x in trignames])\n",
    "    for s in trigthresholds:\n",
    "        sname = \"HLT_PFJet\" + str(s)\n",
    "        print(\" {0:20s} : {1:<12.2f}\".format(sname, prescales_pertrig[ sname ] ) )\n",
    "    print(\"\\n\\n\")"
   ]
  },
  {
   "cell_type": "code",
   "execution_count": null,
   "id": "d9f02fbf",
   "metadata": {},
   "outputs": [],
   "source": []
  }
 ],
 "metadata": {
  "kernelspec": {
   "display_name": "Python 3 (ipykernel)",
   "language": "python",
   "name": "python3"
  },
  "language_info": {
   "codemirror_mode": {
    "name": "ipython",
    "version": 3
   },
   "file_extension": ".py",
   "mimetype": "text/x-python",
   "name": "python",
   "nbconvert_exporter": "python",
   "pygments_lexer": "ipython3",
   "version": "3.8.5"
  }
 },
 "nbformat": 4,
 "nbformat_minor": 5
}
